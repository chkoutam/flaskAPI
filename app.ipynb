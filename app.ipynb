{
 "cells": [
  {
   "cell_type": "code",
   "execution_count": 5,
   "id": "4e396e70",
   "metadata": {},
   "outputs": [],
   "source": [
    "import pickle\n",
    "FILE_TEST_SET = 'test_set.pickle'\n",
    "    \n",
    "# Import du dataframe des informations sur le prêt du client\n",
    "with open(FILE_TEST_SET, 'rb') as df_test_set:\n",
    "    test_set = pickle.load(df_test_set)\n"
   ]
  },
  {
   "cell_type": "code",
   "execution_count": 10,
   "id": "fefdbd3c",
   "metadata": {},
   "outputs": [],
   "source": [
    "client_id=100001"
   ]
  },
  {
   "cell_type": "code",
   "execution_count": 11,
   "id": "a599864e",
   "metadata": {},
   "outputs": [],
   "source": [
    " X_test = test_set[test_set['SK_ID_CURR'] == client_id]"
   ]
  },
  {
   "cell_type": "code",
   "execution_count": 12,
   "id": "70e28e99",
   "metadata": {},
   "outputs": [
    {
     "data": {
      "text/html": [
       "<div>\n",
       "<style scoped>\n",
       "    .dataframe tbody tr th:only-of-type {\n",
       "        vertical-align: middle;\n",
       "    }\n",
       "\n",
       "    .dataframe tbody tr th {\n",
       "        vertical-align: top;\n",
       "    }\n",
       "\n",
       "    .dataframe thead th {\n",
       "        text-align: right;\n",
       "    }\n",
       "</style>\n",
       "<table border=\"1\" class=\"dataframe\">\n",
       "  <thead>\n",
       "    <tr style=\"text-align: right;\">\n",
       "      <th></th>\n",
       "      <th>SK_ID_CURR</th>\n",
       "      <th>CREDIT_ANNUITY_RATIO</th>\n",
       "      <th>PREV_APP_AMT_ANNUITY_MEAN</th>\n",
       "      <th>PREV_APP_DAYS_FIRST_DUE_SUM</th>\n",
       "      <th>PREV_APP_AMT_ANNUITY_MIN</th>\n",
       "      <th>PREV_APP_INTEREST_SHARE_MEAN</th>\n",
       "      <th>POS_CASH_NAME_CONTRACT_STATUS_ACTIVE_MEAN</th>\n",
       "      <th>BUREAU_AMT_CREDIT_SUM_SUM</th>\n",
       "      <th>REG_CITY_NOT_LIVE_CITY</th>\n",
       "      <th>FLAG_DOCUMENT_3</th>\n",
       "      <th>...</th>\n",
       "      <th>PREV_APP_AMT_INTEREST_MEAN</th>\n",
       "      <th>PREV_APP_LOAN_RATE_MEAN</th>\n",
       "      <th>PREV_APP_AMT_ANNUITY_SUM</th>\n",
       "      <th>INST_PAY_NUM_INSTALMENT_NUMBER_MAX</th>\n",
       "      <th>INCOME_EXT_RATIO</th>\n",
       "      <th>INST_PAY_DAYS_PAYMENT_DIFF_MEAN</th>\n",
       "      <th>BUREAU_DAYS_CREDIT_LAST</th>\n",
       "      <th>INST_PAY_NUM_INSTALMENT_VERSION_MEAN</th>\n",
       "      <th>PREV_APP_AMT_APPLICATION_TO_SELLERPLACE_AREA_MEAN</th>\n",
       "      <th>INST_PAY_DAYS_PAYMENT_DIFF_MAX</th>\n",
       "    </tr>\n",
       "  </thead>\n",
       "  <tbody>\n",
       "    <tr>\n",
       "      <th>0</th>\n",
       "      <td>100001</td>\n",
       "      <td>27.671875</td>\n",
       "      <td>3951.0</td>\n",
       "      <td>-1709.0</td>\n",
       "      <td>3951.0</td>\n",
       "      <td>0.328857</td>\n",
       "      <td>0.777832</td>\n",
       "      <td>1453365.0</td>\n",
       "      <td>0</td>\n",
       "      <td>1</td>\n",
       "      <td>...</td>\n",
       "      <td>7821.0</td>\n",
       "      <td>0.166138</td>\n",
       "      <td>3951.0</td>\n",
       "      <td>4.0</td>\n",
       "      <td>846151.5</td>\n",
       "      <td>7.429688</td>\n",
       "      <td>-320.0</td>\n",
       "      <td>1.142578</td>\n",
       "      <td>1079.803833</td>\n",
       "      <td>36.0</td>\n",
       "    </tr>\n",
       "  </tbody>\n",
       "</table>\n",
       "<p>1 rows × 107 columns</p>\n",
       "</div>"
      ],
      "text/plain": [
       "   SK_ID_CURR  CREDIT_ANNUITY_RATIO  PREV_APP_AMT_ANNUITY_MEAN  \\\n",
       "0      100001             27.671875                     3951.0   \n",
       "\n",
       "   PREV_APP_DAYS_FIRST_DUE_SUM  PREV_APP_AMT_ANNUITY_MIN  \\\n",
       "0                      -1709.0                    3951.0   \n",
       "\n",
       "   PREV_APP_INTEREST_SHARE_MEAN  POS_CASH_NAME_CONTRACT_STATUS_ACTIVE_MEAN  \\\n",
       "0                      0.328857                                   0.777832   \n",
       "\n",
       "   BUREAU_AMT_CREDIT_SUM_SUM  REG_CITY_NOT_LIVE_CITY  FLAG_DOCUMENT_3  ...  \\\n",
       "0                  1453365.0                       0                1  ...   \n",
       "\n",
       "   PREV_APP_AMT_INTEREST_MEAN  PREV_APP_LOAN_RATE_MEAN  \\\n",
       "0                      7821.0                 0.166138   \n",
       "\n",
       "   PREV_APP_AMT_ANNUITY_SUM  INST_PAY_NUM_INSTALMENT_NUMBER_MAX  \\\n",
       "0                    3951.0                                 4.0   \n",
       "\n",
       "   INCOME_EXT_RATIO  INST_PAY_DAYS_PAYMENT_DIFF_MEAN  BUREAU_DAYS_CREDIT_LAST  \\\n",
       "0          846151.5                         7.429688                   -320.0   \n",
       "\n",
       "   INST_PAY_NUM_INSTALMENT_VERSION_MEAN  \\\n",
       "0                              1.142578   \n",
       "\n",
       "   PREV_APP_AMT_APPLICATION_TO_SELLERPLACE_AREA_MEAN  \\\n",
       "0                                        1079.803833   \n",
       "\n",
       "   INST_PAY_DAYS_PAYMENT_DIFF_MAX  \n",
       "0                            36.0  \n",
       "\n",
       "[1 rows x 107 columns]"
      ]
     },
     "execution_count": 12,
     "metadata": {},
     "output_type": "execute_result"
    }
   ],
   "source": [
    "X_test"
   ]
  },
  {
   "cell_type": "code",
   "execution_count": null,
   "id": "6ef4dee0",
   "metadata": {},
   "outputs": [],
   "source": []
  }
 ],
 "metadata": {
  "kernelspec": {
   "display_name": "Python 3 (ipykernel)",
   "language": "python",
   "name": "python3"
  },
  "language_info": {
   "codemirror_mode": {
    "name": "ipython",
    "version": 3
   },
   "file_extension": ".py",
   "mimetype": "text/x-python",
   "name": "python",
   "nbconvert_exporter": "python",
   "pygments_lexer": "ipython3",
   "version": "3.8.8"
  },
  "toc": {
   "base_numbering": 1,
   "nav_menu": {},
   "number_sections": true,
   "sideBar": true,
   "skip_h1_title": false,
   "title_cell": "Table of Contents",
   "title_sidebar": "Contents",
   "toc_cell": false,
   "toc_position": {},
   "toc_section_display": true,
   "toc_window_display": false
  }
 },
 "nbformat": 4,
 "nbformat_minor": 5
}
